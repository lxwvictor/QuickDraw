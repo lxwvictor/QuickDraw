{
 "cells": [
  {
   "cell_type": "markdown",
   "metadata": {},
   "source": [
    "# Loading images from the Quick Draw Dataset 10k examples\n",
    "\n",
    "\n",
    "get the data at https://console.cloud.google.com/storage/browser/quickdraw_dataset/full/numpy_bitmap?pli=1\n"
   ]
  },
  {
   "cell_type": "code",
   "execution_count": 1,
   "metadata": {},
   "outputs": [
    {
     "name": "stderr",
     "output_type": "stream",
     "text": [
      "Using TensorFlow backend.\n"
     ]
    }
   ],
   "source": [
    "%matplotlib inline\n",
    "import matplotlib.pyplot as plt\n",
    "\n",
    "import keras\n",
    "from keras.datasets import cifar10\n",
    "from keras.preprocessing.image import ImageDataGenerator\n",
    "from keras.models import Sequential, Model, load_model\n",
    "from keras.layers import Dense, Dropout, Activation, Flatten, Input\n",
    "from keras.layers import Conv2D, MaxPooling2D\n",
    "import keras.backend as K\n",
    "\n",
    "import tensorflow as tf\n",
    "\n",
    "import os\n",
    "import pickle\n",
    "import numpy as np"
   ]
  },
  {
   "cell_type": "code",
   "execution_count": 2,
   "metadata": {},
   "outputs": [
    {
     "name": "stdout",
     "output_type": "stream",
     "text": [
      "2.0.8\n",
      "1.3.0\n"
     ]
    }
   ],
   "source": [
    "print(keras.__version__)\n",
    "print(tf.__version__)"
   ]
  },
  {
   "cell_type": "code",
   "execution_count": 3,
   "metadata": {
    "collapsed": true
   },
   "outputs": [],
   "source": [
    "num_examples_per_class = 10000\n",
    "\n",
    "classes = ['airplane','alarm clock','ambulance','angel','ant','anvil','apple','axe','banana','bandage','barn','baseball bat','baseball',\n",
    "           'basket','basketball','bathtub','beach','bear','beard','bed','bee','belt','bicycle','binoculars','birthday cake','blueberry',\n",
    "           'book','boomerang','bottlecap','bowtie','bracelet','brain','bread','broom','bulldozer','bus','bus','butterfly','cactus','cake',\n",
    "           'calculator','calendar','camel','camera','campfire','candle','cannon','canoe','car','carrot','cello','computer',\n",
    "           'cat','chandelier','clock','cloud','coffee cup','compass','cookie','couch','cow','crab','crayon','crocodile','crown',\n",
    "           'cup','diamond','dog','dolphin','donut','dragon','dresser','drill','drums','duck','dumbbell','ear','elbow',\n",
    "           'elephant','envelope','eraser','eye','eyeglasses','face','fan','feather','fence','finger','fire hydrant',\n",
    "           'fireplace','firetruck','fish','flamingo','flashlight','flip flops','floor lamp','flower','flying saucer',\n",
    "           'foot','fork']"
   ]
  },
  {
   "cell_type": "code",
   "execution_count": 4,
   "metadata": {},
   "outputs": [
    {
     "data": {
      "text/plain": [
       "100"
      ]
     },
     "execution_count": 4,
     "metadata": {},
     "output_type": "execute_result"
    }
   ],
   "source": [
    "len(classes)"
   ]
  },
  {
   "cell_type": "markdown",
   "metadata": {},
   "source": [
    "## Load the image data from scratch\n",
    "\n",
    "Only use if you are downloading the raw data and doing it yourself"
   ]
  },
  {
   "cell_type": "code",
   "execution_count": null,
   "metadata": {
    "collapsed": true
   },
   "outputs": [],
   "source": [
    "#This cell is only if you are loading the data from scratch\n",
    "# get the data \n",
    "quickdraws = [np.load(\"../../data/{}.npy\".format(qdraw))[:num_examples_per_class] for qdraw in classes]\n",
    "\n",
    "# Concat the arrays together\n",
    "x_data = np.concatenate(quickdraws,axis=0)\n",
    "\n",
    "x_data.shape"
   ]
  },
  {
   "cell_type": "code",
   "execution_count": null,
   "metadata": {
    "collapsed": true
   },
   "outputs": [],
   "source": [
    "np.save('x_data_100_classes_10k.npy',x_data)"
   ]
  },
  {
   "cell_type": "markdown",
   "metadata": {},
   "source": [
    "## Use this cell to load the premade datasets that I made"
   ]
  },
  {
   "cell_type": "code",
   "execution_count": 5,
   "metadata": {
    "collapsed": true
   },
   "outputs": [],
   "source": [
    "x_data = np.load(\"../x_data_100_classes_10k.npy\")"
   ]
  },
  {
   "cell_type": "code",
   "execution_count": 6,
   "metadata": {},
   "outputs": [
    {
     "data": {
      "text/plain": [
       "(1000000, 784)"
      ]
     },
     "execution_count": 6,
     "metadata": {},
     "output_type": "execute_result"
    }
   ],
   "source": [
    "x_data.shape"
   ]
  },
  {
   "cell_type": "markdown",
   "metadata": {},
   "source": [
    "## Lets make some labels for our data"
   ]
  },
  {
   "cell_type": "code",
   "execution_count": 7,
   "metadata": {},
   "outputs": [
    {
     "name": "stdout",
     "output_type": "stream",
     "text": [
      "100\n",
      "[1 1 1 ..., 1 1 1]\n",
      "0 1\n"
     ]
    }
   ],
   "source": [
    "labels = [np.full((num_examples_per_class,), classes.index(qdraw)) for qdraw in classes]\n",
    "print(len(labels))\n",
    "print(labels[1])\n",
    "## Concat the arrays together\n",
    "y_data = np.concatenate(labels,axis=0)\n",
    "y_data.shape\n",
    "print(y_data[9999], y_data[10000])"
   ]
  },
  {
   "cell_type": "markdown",
   "metadata": {},
   "source": [
    "## Let's look at the Images "
   ]
  },
  {
   "cell_type": "code",
   "execution_count": 8,
   "metadata": {
    "collapsed": true
   },
   "outputs": [],
   "source": [
    "def show_object(obj):\n",
    "    # Reshape 784 array into 28x28 image\n",
    "    image = obj.reshape([28,28])\n",
    "    fig, axes = plt.subplots(1, )\n",
    "    fig.subplots_adjust(hspace=0.5, wspace=0.5)\n",
    "    plt.imshow(image, cmap='gray_r')\n",
    "    plt.show()"
   ]
  },
  {
   "cell_type": "code",
   "execution_count": 9,
   "metadata": {},
   "outputs": [
    {
     "data": {
      "image/png": "[encoded data removed]",
      "text/plain": [
       "<matplotlib.figure.Figure at 0x11d7a98d0>"
      ]
     },
     "metadata": {},
     "output_type": "display_data"
    },
    {
     "name": "stdout",
     "output_type": "stream",
     "text": [
      "5\n"
     ]
    }
   ],
   "source": [
    "show_object(x_data[53000])\n",
    "print(y_data[53000])"
   ]
  },
  {
   "cell_type": "code",
   "execution_count": 10,
   "metadata": {},
   "outputs": [
    {
     "name": "stdout",
     "output_type": "stream",
     "text": [
      "(1000000, 784)\n",
      "(1000000,)\n"
     ]
    }
   ],
   "source": [
    "print(x_data.shape)\n",
    "print(y_data.shape)"
   ]
  },
  {
   "cell_type": "code",
   "execution_count": 11,
   "metadata": {
    "collapsed": true
   },
   "outputs": [],
   "source": [
    "#shuffling function\n",
    "def unison_shuffled_copies(a, b):\n",
    "    assert len(a) == len(b)\n",
    "    p = np.random.permutation(len(a))\n",
    "    return a[p], b[p]"
   ]
  },
  {
   "cell_type": "code",
   "execution_count": 12,
   "metadata": {
    "collapsed": true
   },
   "outputs": [],
   "source": [
    "x_data,y_data = unison_shuffled_copies(x_data,y_data)"
   ]
  },
  {
   "cell_type": "code",
   "execution_count": 13,
   "metadata": {},
   "outputs": [
    {
     "name": "stdout",
     "output_type": "stream",
     "text": [
      "bus\n"
     ]
    }
   ],
   "source": [
    "y_data[0]\n",
    "print(classes[y_data[0]])"
   ]
  },
  {
   "cell_type": "code",
   "execution_count": 14,
   "metadata": {},
   "outputs": [
    {
     "data": {
      "image/png": "[encoded data removed]",
      "text/plain": [
       "<matplotlib.figure.Figure at 0x14cd052b0>"
      ]
     },
     "metadata": {},
     "output_type": "display_data"
    }
   ],
   "source": [
    "show_object(x_data[0])"
   ]
  },
  {
   "cell_type": "markdown",
   "metadata": {},
   "source": [
    "## Normalize the input"
   ]
  },
  {
   "cell_type": "code",
   "execution_count": 15,
   "metadata": {},
   "outputs": [
    {
     "name": "stdout",
     "output_type": "stream",
     "text": [
      "(1000000, 784)\n",
      "(1000000, 28, 28, 1)\n"
     ]
    }
   ],
   "source": [
    "#print(x_data[0])\n",
    "print(x_data.shape)\n",
    "x_data_norm = x_data.reshape(x_data.shape[0], 28, 28, 1)\n",
    "x_data_norm = x_data_norm/255\n",
    "print(x_data_norm.shape)\n",
    "#print(x_data_norm[0])"
   ]
  },
  {
   "cell_type": "markdown",
   "metadata": {},
   "source": [
    "## One-hot encode the output"
   ]
  },
  {
   "cell_type": "code",
   "execution_count": 16,
   "metadata": {},
   "outputs": [
    {
     "name": "stdout",
     "output_type": "stream",
     "text": [
      "(1000000,)\n",
      "35\n",
      "(1000000, 100)\n",
      "[ 0.  0.  0.  0.  0.  0.  0.  0.  0.  0.  0.  0.  0.  0.  0.  0.  0.  0.\n",
      "  0.  0.  0.  0.  0.  0.  0.  0.  0.  0.  0.  0.  0.  0.  0.  0.  0.  1.\n",
      "  0.  0.  0.  0.  0.  0.  0.  0.  0.  0.  0.  0.  0.  0.  0.  0.  0.  0.\n",
      "  0.  0.  0.  0.  0.  0.  0.  0.  0.  0.  0.  0.  0.  0.  0.  0.  0.  0.\n",
      "  0.  0.  0.  0.  0.  0.  0.  0.  0.  0.  0.  0.  0.  0.  0.  0.  0.  0.\n",
      "  0.  0.  0.  0.  0.  0.  0.  0.  0.  0.]\n"
     ]
    }
   ],
   "source": [
    "import keras\n",
    "print(y_data.shape)\n",
    "print(y_data[0])\n",
    "y_data_onehot = keras.utils.to_categorical(y_data, len(classes))\n",
    "print(y_data_onehot.shape)\n",
    "print(y_data_onehot[0])"
   ]
  },
  {
   "cell_type": "markdown",
   "metadata": {
    "collapsed": true
   },
   "source": [
    "## Create training and testing datasets"
   ]
  },
  {
   "cell_type": "code",
   "execution_count": 17,
   "metadata": {},
   "outputs": [
    {
     "name": "stdout",
     "output_type": "stream",
     "text": [
      "(850000, 28, 28, 1) (150000, 28, 28, 1)\n",
      "(850000, 100) (150000, 100)\n"
     ]
    }
   ],
   "source": [
    "from sklearn.model_selection import train_test_split\n",
    "x_train, x_test, y_train, y_test = train_test_split(x_data_norm, y_data_onehot,\n",
    "                                                    test_size=0.15, random_state=0)\n",
    "print(x_train.shape, x_test.shape)\n",
    "print(y_train.shape, y_test.shape)"
   ]
  },
  {
   "cell_type": "markdown",
   "metadata": {},
   "source": [
    "## Create a small sample to just make sure the NN is working/converging"
   ]
  },
  {
   "cell_type": "code",
   "execution_count": 18,
   "metadata": {
    "collapsed": true
   },
   "outputs": [],
   "source": [
    "# Below code always cause memory error in the AWS GPU instance\n",
    "#x_train_small,_,y_train_small,_ = train_test_split(x_train, y_train, \n",
    "#                                                   test_size=0.95, random_state=0)\n",
    "#_,x_test_small,_,y_test_small = train_test_split(x_test, y_test,\n",
    "#                                              test_size=0.05, random_state=0)\n",
    "#print(x_train_small.shape, x_test_small.shape)\n",
    "#print(y_train_small.shape, y_test_small.shape)"
   ]
  },
  {
   "cell_type": "markdown",
   "metadata": {},
   "source": [
    "## Build and compile the neural network"
   ]
  },
  {
   "cell_type": "code",
   "execution_count": 19,
   "metadata": {},
   "outputs": [
    {
     "name": "stdout",
     "output_type": "stream",
     "text": [
      "_________________________________________________________________\n",
      "Layer (type)                 Output Shape              Param #   \n",
      "=================================================================\n",
      "input_1 (InputLayer)         (None, 28, 28, 1)         0         \n",
      "_________________________________________________________________\n",
      "conv1 (Conv2D)               (None, 28, 28, 32)        320       \n",
      "_________________________________________________________________\n",
      "maxpool1 (MaxPooling2D)      (None, 9, 9, 32)          0         \n",
      "_________________________________________________________________\n",
      "conv2 (Conv2D)               (None, 9, 9, 64)          18496     \n",
      "_________________________________________________________________\n",
      "maxpool2 (MaxPooling2D)      (None, 3, 3, 64)          0         \n",
      "_________________________________________________________________\n",
      "dropout_1 (Dropout)          (None, 3, 3, 64)          0         \n",
      "_________________________________________________________________\n",
      "flatten_1 (Flatten)          (None, 576)               0         \n",
      "_________________________________________________________________\n",
      "Dense1 (Dense)               (None, 200)               115400    \n",
      "_________________________________________________________________\n",
      "output (Dense)               (None, 100)               20100     \n",
      "=================================================================\n",
      "Total params: 154,316\n",
      "Trainable params: 154,316\n",
      "Non-trainable params: 0\n",
      "_________________________________________________________________\n"
     ]
    }
   ],
   "source": [
    "n_input = 28,28,1\n",
    "n_classes = len(classes)\n",
    "\n",
    "from keras.layers import Conv2D, MaxPooling2D, GlobalAveragePooling2D\n",
    "from keras.layers import Dropout, Dense\n",
    "from keras.models import Model\n",
    "\n",
    "Inp = Input(shape=(n_input))\n",
    "x = Conv2D(filters=32, kernel_size=3, padding='same', activation='relu', name='conv1')(Inp)\n",
    "x = MaxPooling2D(pool_size=3, name='maxpool1')(x)\n",
    "#x = Dropout(0.3)(x)\n",
    "x = Conv2D(filters=64, kernel_size=3, padding='same', activation='relu', name='conv2')(x)\n",
    "x = MaxPooling2D(pool_size=3, name='maxpool2')(x)\n",
    "#x = Dropout(0.3)(x)\n",
    "#x = Conv2D(filters=64, kernel_size=3, padding='same', activation='relu', name='conv3')(x)\n",
    "#x = GlobalAveragePooling2D(name='avgpool1')(x)\n",
    "#x = MaxPooling2D(pool_size=3, name='maxpool3')(x)\n",
    "x = Dropout(0.3)(x)\n",
    "x = Flatten()(x)\n",
    "x = Dense(200, activation='relu', name='Dense1')(x)\n",
    "output = Dense(n_classes, activation='softmax', name='output')(x)\n",
    "\n",
    "model = Model(Inp, output)\n",
    "model.summary()"
   ]
  },
  {
   "cell_type": "code",
   "execution_count": 21,
   "metadata": {
    "collapsed": true
   },
   "outputs": [],
   "source": [
    "model.compile(loss='categorical_crossentropy',\n",
    "             optimizer='SGD',\n",
    "             metrics=['accuracy'])"
   ]
  },
  {
   "cell_type": "markdown",
   "metadata": {},
   "source": [
    "## Tain the model, checkpoint and reduce_lr callbacks are used\n",
    "One epoch takes about 420 seconds on g2.2xlarge aws instance. It reached 75.6% accuracy after 15 iterations."
   ]
  },
  {
   "cell_type": "code",
   "execution_count": 22,
   "metadata": {},
   "outputs": [
    {
     "name": "stdout",
     "output_type": "stream",
     "text": [
      "Train on 850000 samples, validate on 150000 samples\n",
      "Epoch 1/15\n",
      "849900/850000 [============================>.] - ETA: 0s - loss: 3.4204 - acc: 0.2156Epoch 00000: val_loss improved from inf to 2.15241, saving model to quickdraw-100class-10k.h5\n",
      "850000/850000 [==============================] - 533s - loss: 3.4202 - acc: 0.2156 - val_loss: 2.1524 - val_acc: 0.4934\n",
      "Epoch 2/15\n",
      "849900/850000 [============================>.] - ETA: 0s - loss: 2.0267 - acc: 0.5065Epoch 00001: val_loss improved from 2.15241 to 1.63617, saving model to quickdraw-100class-10k.h5\n",
      "850000/850000 [==============================] - 532s - loss: 2.0267 - acc: 0.5066 - val_loss: 1.6362 - val_acc: 0.6052\n",
      "Epoch 3/15\n",
      "849900/850000 [============================>.] - ETA: 0s - loss: 1.6989 - acc: 0.5812Epoch 00002: val_loss improved from 1.63617 to 1.42865, saving model to quickdraw-100class-10k.h5\n",
      "850000/850000 [==============================] - 531s - loss: 1.6989 - acc: 0.5812 - val_loss: 1.4287 - val_acc: 0.6531\n",
      "Epoch 4/15\n",
      "849900/850000 [============================>.] - ETA: 0s - loss: 1.5413 - acc: 0.6172Epoch 00003: val_loss improved from 1.42865 to 1.31623, saving model to quickdraw-100class-10k.h5\n",
      "850000/850000 [==============================] - 531s - loss: 1.5413 - acc: 0.6172 - val_loss: 1.3162 - val_acc: 0.6767\n",
      "Epoch 5/15\n",
      "849900/850000 [============================>.] - ETA: 0s - loss: 1.4461 - acc: 0.6398Epoch 00004: val_loss improved from 1.31623 to 1.24021, saving model to quickdraw-100class-10k.h5\n",
      "850000/850000 [==============================] - 531s - loss: 1.4461 - acc: 0.6398 - val_loss: 1.2402 - val_acc: 0.6937\n",
      "Epoch 6/15\n",
      "849900/850000 [============================>.] - ETA: 0s - loss: 1.3785 - acc: 0.6548Epoch 00005: val_loss improved from 1.24021 to 1.19226, saving model to quickdraw-100class-10k.h5\n",
      "850000/850000 [==============================] - 531s - loss: 1.3785 - acc: 0.6548 - val_loss: 1.1923 - val_acc: 0.7043\n",
      "Epoch 7/15\n",
      "849900/850000 [============================>.] - ETA: 0s - loss: 1.3279 - acc: 0.6665Epoch 00006: val_loss improved from 1.19226 to 1.14724, saving model to quickdraw-100class-10k.h5\n",
      "850000/850000 [==============================] - 530s - loss: 1.3279 - acc: 0.6665 - val_loss: 1.1472 - val_acc: 0.7158\n",
      "Epoch 8/15\n",
      "849900/850000 [============================>.] - ETA: 0s - loss: 1.2886 - acc: 0.6758Epoch 00007: val_loss improved from 1.14724 to 1.11145, saving model to quickdraw-100class-10k.h5\n",
      "850000/850000 [==============================] - 531s - loss: 1.2885 - acc: 0.6758 - val_loss: 1.1114 - val_acc: 0.7236\n",
      "Epoch 9/15\n",
      "849900/850000 [============================>.] - ETA: 0s - loss: 1.2545 - acc: 0.6840Epoch 00008: val_loss improved from 1.11145 to 1.08694, saving model to quickdraw-100class-10k.h5\n",
      "850000/850000 [==============================] - 531s - loss: 1.2545 - acc: 0.6840 - val_loss: 1.0869 - val_acc: 0.7287\n",
      "Epoch 10/15\n",
      "849900/850000 [============================>.] - ETA: 0s - loss: 1.2274 - acc: 0.6906Epoch 00009: val_loss improved from 1.08694 to 1.06463, saving model to quickdraw-100class-10k.h5\n",
      "850000/850000 [==============================] - 531s - loss: 1.2273 - acc: 0.6906 - val_loss: 1.0646 - val_acc: 0.7333\n",
      "Epoch 11/15\n",
      "849900/850000 [============================>.] - ETA: 0s - loss: 1.2048 - acc: 0.6956Epoch 00010: val_loss improved from 1.06463 to 1.04788, saving model to quickdraw-100class-10k.h5\n",
      "850000/850000 [==============================] - 531s - loss: 1.2048 - acc: 0.6956 - val_loss: 1.0479 - val_acc: 0.7380\n",
      "Epoch 12/15\n",
      "849900/850000 [============================>.] - ETA: 0s - loss: 1.1838 - acc: 0.7007Epoch 00011: val_loss improved from 1.04788 to 1.03086, saving model to quickdraw-100class-10k.h5\n",
      "850000/850000 [==============================] - 531s - loss: 1.1838 - acc: 0.7007 - val_loss: 1.0309 - val_acc: 0.7420\n",
      "Epoch 13/15\n",
      "849900/850000 [============================>.] - ETA: 0s - loss: 1.1669 - acc: 0.7046Epoch 00012: val_loss improved from 1.03086 to 1.01742, saving model to quickdraw-100class-10k.h5\n",
      "850000/850000 [==============================] - 531s - loss: 1.1669 - acc: 0.7046 - val_loss: 1.0174 - val_acc: 0.7446\n",
      "Epoch 14/15\n",
      "849900/850000 [============================>.] - ETA: 0s - loss: 1.1512 - acc: 0.7084Epoch 00013: val_loss improved from 1.01742 to 1.00064, saving model to quickdraw-100class-10k.h5\n",
      "850000/850000 [==============================] - 530s - loss: 1.1512 - acc: 0.7084 - val_loss: 1.0006 - val_acc: 0.7490\n",
      "Epoch 15/15\n",
      "849900/850000 [============================>.] - ETA: 0s - loss: 1.1377 - acc: 0.7116Epoch 00014: val_loss improved from 1.00064 to 0.98902, saving model to quickdraw-100class-10k.h5\n",
      "850000/850000 [==============================] - 530s - loss: 1.1377 - acc: 0.7116 - val_loss: 0.9890 - val_acc: 0.7521\n"
     ]
    }
   ],
   "source": [
    "from keras.callbacks import ModelCheckpoint\n",
    "from keras.callbacks import ReduceLROnPlateau\n",
    "\n",
    "checkpointer = ModelCheckpoint(filepath='quickdraw-100class-10k.h5', verbose=1, save_best_only=True)\n",
    "reduce_lr = ReduceLROnPlateau(monitor='val_loss', factor=0.9, patience=5, min_lr=0.0001)\n",
    "history = model.fit(x_train, y_train,\n",
    "                   batch_size=100, epochs=15,\n",
    "                   verbose=1, validation_data=(x_test, y_test),\n",
    "                   callbacks=[checkpointer, reduce_lr])"
   ]
  },
  {
   "cell_type": "markdown",
   "metadata": {
    "collapsed": true
   },
   "source": [
    "## Plot the training and validation/testing accuracy"
   ]
  },
  {
   "cell_type": "code",
   "execution_count": 23,
   "metadata": {},
   "outputs": [
    {
     "name": "stdout",
     "output_type": "stream",
     "text": [
      "Test loss: 0.989015442489\n",
      "Test accuracy: 0.752086666667\n"
     ]
    },
    {
     "data": {
      "image/png": "[encoded data removed]",
      "text/plain": [
       "<matplotlib.figure.Figure at 0x7fb4066fb710>"
      ]
     },
     "metadata": {},
     "output_type": "display_data"
    }
   ],
   "source": [
    "def plot_train(hist):\n",
    "    h = hist.history\n",
    "    if 'acc' in h:\n",
    "        meas='acc'\n",
    "        loc='lower right'\n",
    "    else:\n",
    "        meas='loss'\n",
    "        loc='upper right'\n",
    "    plt.plot(hist.history[meas])\n",
    "    plt.plot(hist.history['val_'+meas])\n",
    "    plt.title('model '+meas)\n",
    "    plt.ylabel(meas)\n",
    "    plt.xlabel('epoch')\n",
    "    plt.legend(['train', 'validation'], loc=loc)\n",
    "    \n",
    "plot_train(history)"
   ]
  },
  {
   "cell_type": "code",
   "execution_count": 63,
   "metadata": {},
   "outputs": [
    {
     "name": "stdout",
     "output_type": "stream",
     "text": [
      "Test loss: 0.967600964842\n",
      "Test accuracy: 0.756693333333\n"
     ]
    }
   ],
   "source": [
    "# Test against x_test and y_test dataset. Top one result.\n",
    "score = model.evaluate(x_test, y_test, verbose=0)\n",
    "print('Test loss:', score[0])\n",
    "print('Test accuracy:', score[1])"
   ]
  },
  {
   "cell_type": "markdown",
   "metadata": {},
   "source": [
    "If considering the top 5 returned predictions, the accuracy reached 91.9%."
   ]
  },
  {
   "cell_type": "code",
   "execution_count": 139,
   "metadata": {
    "collapsed": true
   },
   "outputs": [],
   "source": [
    "def get_top_n_rate(model, n, x_test, y_test):\n",
    "    # Get the prediction matrix of all the testing data points\n",
    "    predict_prob = model.predict(x_test)\n",
    "    # Get the top n index matrix\n",
    "    top_n = np.argsort(predict_prob)[:, :-n-1:-1]\n",
    "    \n",
    "    found = .0\n",
    "    for i in range(len(top_n)):\n",
    "        curIndex = np.argmax(y_test[i])\n",
    "        if curIndex in top_n[i]:\n",
    "            # Increase 'found' if the index of the test case is found in the top n\n",
    "            found += 1\n",
    "    return found/len(top_n)"
   ]
  },
  {
   "cell_type": "code",
   "execution_count": 140,
   "metadata": {},
   "outputs": [
    {
     "name": "stdout",
     "output_type": "stream",
     "text": [
      "149792/150000 [============================>.] - ETA: 0s\n",
      "Top 1 accuracy: 0.756693333333\n",
      "Top 5 accuracy: 0.91852\n"
     ]
    }
   ],
   "source": [
    "# Subset a small portion of test dataset.\n",
    "print('\\nTop 1 accuracy:', model.evaluate(x_test, y_test)[1])\n",
    "print('Top 5 accuracy:', get_top_n_rate(model, 5, x_test, y_test))"
   ]
  },
  {
   "cell_type": "markdown",
   "metadata": {},
   "source": [
    "## Save and load the model"
   ]
  },
  {
   "cell_type": "code",
   "execution_count": 21,
   "metadata": {},
   "outputs": [
    {
     "name": "stderr",
     "output_type": "stream",
     "text": [
      "/Users/victor/anaconda/envs/tfkeras/lib/python3.5/site-packages/keras/models.py:287: UserWarning: Error in loading the saved optimizer state. As a result, your model is starting with a freshly initialized optimizer.\n",
      "  warnings.warn('Error in loading the saved optimizer '\n"
     ]
    }
   ],
   "source": [
    "#model.save('quickdraw-100class-10k.h5')\n",
    "model = keras.models.load_model('quickdraw-100class-10k.h5')"
   ]
  },
  {
   "cell_type": "code",
   "execution_count": null,
   "metadata": {
    "collapsed": true
   },
   "outputs": [],
   "source": []
  }
 ],
 "metadata": {
  "kernelspec": {
   "display_name": "Python 3",
   "language": "python",
   "name": "python3"
  },
  "language_info": {
   "codemirror_mode": {
    "name": "ipython",
    "version": 3
   },
   "file_extension": ".py",
   "mimetype": "text/x-python",
   "name": "python",
   "nbconvert_exporter": "python",
   "pygments_lexer": "ipython3",
   "version": "3.5.4"
  }
 },
 "nbformat": 4,
 "nbformat_minor": 2
}
