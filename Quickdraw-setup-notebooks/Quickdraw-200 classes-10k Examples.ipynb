{
 "cells": [
  {
   "cell_type": "markdown",
   "metadata": {},
   "source": [
    "# Loading images from the Quick Draw Dataset 20k examples\n",
    "\n",
    "\n",
    "get the data at https://console.cloud.google.com/storage/browser/quickdraw_dataset/full/numpy_bitmap?pli=1\n"
   ]
  },
  {
   "cell_type": "code",
   "execution_count": 1,
   "metadata": {},
   "outputs": [
    {
     "name": "stderr",
     "output_type": "stream",
     "text": [
      "Using TensorFlow backend.\n"
     ]
    }
   ],
   "source": [
    "%matplotlib inline\n",
    "import matplotlib.pyplot as plt\n",
    "\n",
    "import keras\n",
    "from keras.datasets import cifar10\n",
    "from keras.preprocessing.image import ImageDataGenerator\n",
    "from keras.models import Sequential, Model, load_model\n",
    "from keras.layers import Dense, Dropout, Activation, Flatten, Input\n",
    "from keras.layers import Conv2D, MaxPooling2D\n",
    "import keras.backend as K\n",
    "\n",
    "import tensorflow as tf\n",
    "\n",
    "import os\n",
    "import pickle\n",
    "import numpy as np"
   ]
  },
  {
   "cell_type": "code",
   "execution_count": 2,
   "metadata": {},
   "outputs": [
    {
     "name": "stdout",
     "output_type": "stream",
     "text": [
      "2.0.8\n",
      "1.3.0\n"
     ]
    }
   ],
   "source": [
    "print(keras.__version__)\n",
    "print(tf.__version__)"
   ]
  },
  {
   "cell_type": "code",
   "execution_count": 3,
   "metadata": {
    "collapsed": true
   },
   "outputs": [],
   "source": [
    "num_examples_per_class = 10000\n",
    "\n",
    "#classes = ['airplane','alarm clock','ambulance','angel','ant','anvil','apple','axe','banana','bandage','barn','baseball bat','baseball',\n",
    "#           'basket','basketball','bathtub','beach','bear','beard','bed','bee','belt','bicycle','binoculars','birthday cake','blueberry',\n",
    "#           'book','boomerang','bottlecap','bowtie','bracelet','brain','bread','broom','bulldozer','bus','bus','butterfly','cactus','cake',\n",
    "#           'calculator','calendar','camel','camera','campfire','candle','cannon','canoe','car','carrot','cello','computer',\n",
    "#           'cat','chandelier','clock','cloud','coffee cup','compass','cookie','couch','cow','crab','crayon','crocodile','crown',\n",
    "#           'cup','diamond','dog','dolphin','donut','dragon','dresser','drill','drums','duck','dumbbell','ear','elbow',\n",
    "#           'elephant','envelope','eraser','eye','eyeglasses','face','fan','feather','fence','finger','fire hydrant',\n",
    "#           'fireplace','firetruck','fish','flamingo','flashlight','flip flops','floor lamp','flower','flying saucer',\n",
    "#           'foot','fork']"
   ]
  },
  {
   "cell_type": "code",
   "execution_count": 4,
   "metadata": {
    "collapsed": true
   },
   "outputs": [],
   "source": [
    "classes = ['aircraft carrier','airplane','alarm clock','ambulance','angel','ant','anvil','apple','axe','banana','bandage',\n",
    "           'barn','baseball bat','baseball','basket','basketball','bathtub','beach','bear','beard','bed','bee','belt',\n",
    "           'bicycle','binoculars','birthday cake','blueberry','book','boomerang','bottlecap','bowtie','bracelet','brain',\n",
    "           'bread','broom','bulldozer','bus','bush','butterfly','cactus','cake','calculator','calendar','camel','camera',\n",
    "           'campfire','candle','cannon','canoe','car','carrot','cat','cello','chandelier','clock','cloud','coffee cup',\n",
    "           'compass','computer','cookie','couch','cow','crab','crayon','crocodile','crown','cup','diamond','dog',\n",
    "           'dolphin','donut','dragon','dresser','drill','drums','duck','dumbbell','ear','elbow','elephant','envelope',\n",
    "           'eraser','eye','eyeglasses','face','fan','feather','fence','finger','fire hydrant','fireplace','firetruck',\n",
    "           'fish','flamingo','flashlight','flip flops','floor lamp','flower','flying saucer','foot','fork','frog',\n",
    "           'frying pan','garden hose','garden','giraffe','goatee','golf club','grapes','grass','guitar','hamburger',\n",
    "           'hammer','hand','harp','hat','headphones','hedgehog','helicopter','helmet','hexagon','hockey puck',\n",
    "           'hockey stick','horse','hospital','hot air balloon','hot dog','hot tub','hourglass','house plant','house',\n",
    "           'hurricane','ice cream','jacket','jail','kangaroo','key','keyboard','knee','knife','ladder','lantern',\n",
    "           'laptop','leaf','leg','light bulb','lighter','lighthouse','lightning','line','lion','lipstick','lobster',\n",
    "           'lollipop','mailbox','map','marker','matches','megaphone','mermaid','microphone','microwave','monkey',\n",
    "           'moon','mosquito','motorbike','mountain','mouse','moustache','mouth','mug','mushroom','nail','necklace',\n",
    "           'nose','ocean','octagon','octopus','onion','oven','owl','paint can','paintbrush','palm tree','panda',\n",
    "           'pants','paper clip','parachute','parrot','passport','peanut','pear','peas','pencil','penguin','piano',\n",
    "           'pickup truck','picture frame','pig','pillow']"
   ]
  },
  {
   "cell_type": "code",
   "execution_count": 5,
   "metadata": {},
   "outputs": [
    {
     "data": {
      "text/plain": [
       "200"
      ]
     },
     "execution_count": 5,
     "metadata": {},
     "output_type": "execute_result"
    }
   ],
   "source": [
    "len(classes)"
   ]
  },
  {
   "cell_type": "markdown",
   "metadata": {},
   "source": [
    "## Load the image data from scratch\n",
    "\n",
    "Only use if you are downloading the raw data and doing it yourself"
   ]
  },
  {
   "cell_type": "code",
   "execution_count": null,
   "metadata": {
    "collapsed": true
   },
   "outputs": [],
   "source": [
    "#This cell is only if you are loading the data from scratch\n",
    "# get the data \n",
    "quickdraws = [np.load(\"../../data/{}.npy\".format(qdraw))[:num_examples_per_class] for qdraw in classes]\n",
    "\n",
    "# Concat the arrays together\n",
    "x_data = np.concatenate(quickdraws,axis=0)\n",
    "\n",
    "x_data.shape"
   ]
  },
  {
   "cell_type": "code",
   "execution_count": null,
   "metadata": {
    "collapsed": true
   },
   "outputs": [],
   "source": [
    "np.save('x_data_100_classes_10k.npy',x_data)"
   ]
  },
  {
   "cell_type": "markdown",
   "metadata": {},
   "source": [
    "## Use this cell to load the premade datasets that I made"
   ]
  },
  {
   "cell_type": "code",
   "execution_count": 6,
   "metadata": {
    "collapsed": true
   },
   "outputs": [],
   "source": [
    "x_data = np.load(\"../x_data_200_classes_10k.npy\")"
   ]
  },
  {
   "cell_type": "code",
   "execution_count": 7,
   "metadata": {},
   "outputs": [
    {
     "data": {
      "text/plain": [
       "(2000000, 784)"
      ]
     },
     "execution_count": 7,
     "metadata": {},
     "output_type": "execute_result"
    }
   ],
   "source": [
    "x_data.shape"
   ]
  },
  {
   "cell_type": "markdown",
   "metadata": {},
   "source": [
    "## Lets make some labels for our data"
   ]
  },
  {
   "cell_type": "code",
   "execution_count": 8,
   "metadata": {},
   "outputs": [
    {
     "name": "stdout",
     "output_type": "stream",
     "text": [
      "200\n",
      "[1 1 1 ..., 1 1 1]\n",
      "0 1\n"
     ]
    }
   ],
   "source": [
    "labels = [np.full((num_examples_per_class,), classes.index(qdraw)) for qdraw in classes]\n",
    "print(len(labels))\n",
    "print(labels[1])\n",
    "## Concat the arrays together\n",
    "y_data = np.concatenate(labels,axis=0)\n",
    "y_data.shape\n",
    "print(y_data[9999], y_data[10000])"
   ]
  },
  {
   "cell_type": "markdown",
   "metadata": {},
   "source": [
    "## Let's look at the Images "
   ]
  },
  {
   "cell_type": "code",
   "execution_count": 17,
   "metadata": {
    "collapsed": true
   },
   "outputs": [],
   "source": [
    "def show_object(obj):\n",
    "    # Reshape 784 array into 28x28 image\n",
    "    image = obj.reshape([28,28])\n",
    "    fig, axes = plt.subplots(1, )\n",
    "    fig.subplots_adjust(hspace=0.5, wspace=0.5)\n",
    "    plt.imshow(image, cmap='gray_r')\n",
    "    plt.show()"
   ]
  },
  {
   "cell_type": "code",
   "execution_count": 18,
   "metadata": {},
   "outputs": [
    {
     "data": {
      "image/png": "[encoded data removed]",
      "text/plain": [
       "<matplotlib.figure.Figure at 0x26df7eff5f8>"
      ]
     },
     "metadata": {},
     "output_type": "display_data"
    },
    {
     "name": "stdout",
     "output_type": "stream",
     "text": [
      "125\n"
     ]
    }
   ],
   "source": [
    "show_object(x_data[53000])\n",
    "print(y_data[53000])"
   ]
  },
  {
   "cell_type": "code",
   "execution_count": 19,
   "metadata": {},
   "outputs": [
    {
     "name": "stdout",
     "output_type": "stream",
     "text": [
      "(2000000, 784)\n",
      "(2000000,)\n"
     ]
    }
   ],
   "source": [
    "print(x_data.shape)\n",
    "print(y_data.shape)"
   ]
  },
  {
   "cell_type": "code",
   "execution_count": 20,
   "metadata": {
    "collapsed": true
   },
   "outputs": [],
   "source": [
    "#shuffling function\n",
    "def unison_shuffled_copies(a, b):\n",
    "    assert len(a) == len(b)\n",
    "    p = np.random.permutation(len(a))\n",
    "    return a[p], b[p]"
   ]
  },
  {
   "cell_type": "code",
   "execution_count": 21,
   "metadata": {
    "collapsed": true
   },
   "outputs": [],
   "source": [
    "x_data,y_data = unison_shuffled_copies(x_data,y_data)"
   ]
  },
  {
   "cell_type": "code",
   "execution_count": 22,
   "metadata": {},
   "outputs": [
    {
     "name": "stdout",
     "output_type": "stream",
     "text": [
      "basketball\n"
     ]
    }
   ],
   "source": [
    "y_data[0]\n",
    "print(classes[y_data[0]])"
   ]
  },
  {
   "cell_type": "code",
   "execution_count": 23,
   "metadata": {},
   "outputs": [
    {
     "data": {
      "image/png": "[encoded data removed]",
      "text/plain": [
       "<matplotlib.figure.Figure at 0x26d8008b550>"
      ]
     },
     "metadata": {},
     "output_type": "display_data"
    }
   ],
   "source": [
    "show_object(x_data[0])"
   ]
  },
  {
   "cell_type": "markdown",
   "metadata": {},
   "source": [
    "## Normalize the input"
   ]
  },
  {
   "cell_type": "code",
   "execution_count": 24,
   "metadata": {},
   "outputs": [
    {
     "name": "stdout",
     "output_type": "stream",
     "text": [
      "(2000000, 784)\n",
      "(2000000, 28, 28, 1)\n"
     ]
    }
   ],
   "source": [
    "#print(x_data[0])\n",
    "print(x_data.shape)\n",
    "x_data_norm = x_data.reshape(x_data.shape[0], 28, 28, 1)\n",
    "x_data_norm = x_data_norm/255\n",
    "print(x_data_norm.shape)\n",
    "#print(x_data_norm[0])"
   ]
  },
  {
   "cell_type": "markdown",
   "metadata": {},
   "source": [
    "## One-hot encode the output"
   ]
  },
  {
   "cell_type": "code",
   "execution_count": 25,
   "metadata": {},
   "outputs": [
    {
     "name": "stdout",
     "output_type": "stream",
     "text": [
      "(2000000,)\n",
      "15\n",
      "(2000000, 200)\n",
      "[ 0.  0.  0.  0.  0.  0.  0.  0.  0.  0.  0.  0.  0.  0.  0.  1.  0.  0.\n",
      "  0.  0.  0.  0.  0.  0.  0.  0.  0.  0.  0.  0.  0.  0.  0.  0.  0.  0.\n",
      "  0.  0.  0.  0.  0.  0.  0.  0.  0.  0.  0.  0.  0.  0.  0.  0.  0.  0.\n",
      "  0.  0.  0.  0.  0.  0.  0.  0.  0.  0.  0.  0.  0.  0.  0.  0.  0.  0.\n",
      "  0.  0.  0.  0.  0.  0.  0.  0.  0.  0.  0.  0.  0.  0.  0.  0.  0.  0.\n",
      "  0.  0.  0.  0.  0.  0.  0.  0.  0.  0.  0.  0.  0.  0.  0.  0.  0.  0.\n",
      "  0.  0.  0.  0.  0.  0.  0.  0.  0.  0.  0.  0.  0.  0.  0.  0.  0.  0.\n",
      "  0.  0.  0.  0.  0.  0.  0.  0.  0.  0.  0.  0.  0.  0.  0.  0.  0.  0.\n",
      "  0.  0.  0.  0.  0.  0.  0.  0.  0.  0.  0.  0.  0.  0.  0.  0.  0.  0.\n",
      "  0.  0.  0.  0.  0.  0.  0.  0.  0.  0.  0.  0.  0.  0.  0.  0.  0.  0.\n",
      "  0.  0.  0.  0.  0.  0.  0.  0.  0.  0.  0.  0.  0.  0.  0.  0.  0.  0.\n",
      "  0.  0.]\n"
     ]
    }
   ],
   "source": [
    "import keras\n",
    "print(y_data.shape)\n",
    "print(y_data[0])\n",
    "y_data_onehot = keras.utils.to_categorical(y_data, len(classes))\n",
    "print(y_data_onehot.shape)\n",
    "print(y_data_onehot[0])"
   ]
  },
  {
   "cell_type": "markdown",
   "metadata": {
    "collapsed": true
   },
   "source": [
    "## Create training and testing datasets"
   ]
  },
  {
   "cell_type": "code",
   "execution_count": 26,
   "metadata": {},
   "outputs": [
    {
     "name": "stdout",
     "output_type": "stream",
     "text": [
      "(1700000, 28, 28, 1) (300000, 28, 28, 1)\n",
      "(1700000, 200) (300000, 200)\n"
     ]
    }
   ],
   "source": [
    "from sklearn.model_selection import train_test_split\n",
    "x_train, x_test, y_train, y_test = train_test_split(x_data_norm, y_data_onehot,\n",
    "                                                    test_size=0.15, random_state=0)\n",
    "print(x_train.shape, x_test.shape)\n",
    "print(y_train.shape, y_test.shape)"
   ]
  },
  {
   "cell_type": "markdown",
   "metadata": {},
   "source": [
    "## Create a small sample to just make sure the NN is working/converging"
   ]
  },
  {
   "cell_type": "code",
   "execution_count": 27,
   "metadata": {
    "collapsed": true
   },
   "outputs": [],
   "source": [
    "# Below code always cause memory error in the AWS GPU instance\n",
    "#x_train_small,_,y_train_small,_ = train_test_split(x_train, y_train, \n",
    "#                                                   test_size=0.95, random_state=0)\n",
    "#_,x_test_small,_,y_test_small = train_test_split(x_test, y_test,\n",
    "#                                              test_size=0.05, random_state=0)\n",
    "#print(x_train_small.shape, x_test_small.shape)\n",
    "#print(y_train_small.shape, y_test_small.shape)"
   ]
  },
  {
   "cell_type": "markdown",
   "metadata": {},
   "source": [
    "## Build and compile the neural network"
   ]
  },
  {
   "cell_type": "code",
   "execution_count": 28,
   "metadata": {},
   "outputs": [
    {
     "name": "stdout",
     "output_type": "stream",
     "text": [
      "_________________________________________________________________\n",
      "Layer (type)                 Output Shape              Param #   \n",
      "=================================================================\n",
      "input_1 (InputLayer)         (None, 28, 28, 1)         0         \n",
      "_________________________________________________________________\n",
      "conv1 (Conv2D)               (None, 28, 28, 32)        320       \n",
      "_________________________________________________________________\n",
      "maxpool1 (MaxPooling2D)      (None, 9, 9, 32)          0         \n",
      "_________________________________________________________________\n",
      "conv2 (Conv2D)               (None, 9, 9, 64)          18496     \n",
      "_________________________________________________________________\n",
      "maxpool2 (MaxPooling2D)      (None, 3, 3, 64)          0         \n",
      "_________________________________________________________________\n",
      "dropout_1 (Dropout)          (None, 3, 3, 64)          0         \n",
      "_________________________________________________________________\n",
      "flatten_1 (Flatten)          (None, 576)               0         \n",
      "_________________________________________________________________\n",
      "Dense1 (Dense)               (None, 200)               115400    \n",
      "_________________________________________________________________\n",
      "output (Dense)               (None, 200)               40200     \n",
      "=================================================================\n",
      "Total params: 174,416\n",
      "Trainable params: 174,416\n",
      "Non-trainable params: 0\n",
      "_________________________________________________________________\n"
     ]
    }
   ],
   "source": [
    "n_input = 28,28,1\n",
    "n_classes = len(classes)\n",
    "\n",
    "from keras.layers import Conv2D, MaxPooling2D, GlobalAveragePooling2D\n",
    "from keras.layers import Dropout, Dense\n",
    "from keras.models import Model\n",
    "\n",
    "Inp = Input(shape=(n_input))\n",
    "x = Conv2D(filters=32, kernel_size=3, padding='same', activation='relu', name='conv1')(Inp)\n",
    "x = MaxPooling2D(pool_size=3, name='maxpool1')(x)\n",
    "#x = Dropout(0.3)(x)\n",
    "x = Conv2D(filters=64, kernel_size=3, padding='same', activation='relu', name='conv2')(x)\n",
    "x = MaxPooling2D(pool_size=3, name='maxpool2')(x)\n",
    "#x = Dropout(0.3)(x)\n",
    "#x = Conv2D(filters=64, kernel_size=3, padding='same', activation='relu', name='conv3')(x)\n",
    "#x = GlobalAveragePooling2D(name='avgpool1')(x)\n",
    "#x = MaxPooling2D(pool_size=3, name='maxpool3')(x)\n",
    "x = Dropout(0.3)(x)\n",
    "x = Flatten()(x)\n",
    "x = Dense(200, activation='relu', name='Dense1')(x)\n",
    "output = Dense(n_classes, activation='softmax', name='output')(x)\n",
    "\n",
    "model = Model(Inp, output)\n",
    "model.summary()"
   ]
  },
  {
   "cell_type": "code",
   "execution_count": 29,
   "metadata": {
    "collapsed": true
   },
   "outputs": [],
   "source": [
    "model.compile(loss='categorical_crossentropy',\n",
    "             optimizer='SGD',\n",
    "             metrics=['accuracy'])"
   ]
  },
  {
   "cell_type": "markdown",
   "metadata": {},
   "source": [
    "## Train the model, checkpoint, reduce_lr, early_stopping callbacks are used\n",
    "One epoch takes about 120 seconds on nvidia GTX1070. It reached 71.1% accuracy after 82 iterations."
   ]
  },
  {
   "cell_type": "code",
   "execution_count": 31,
   "metadata": {},
   "outputs": [
    {
     "name": "stdout",
     "output_type": "stream",
     "text": [
      "Train on 1700000 samples, validate on 300000 samples\n",
      "lr: 0.01\n",
      "Epoch 1/50\n",
      "1699500/1700000 [============================>.] - ETA: 0s - loss: 1.3358 - acc: 0.6688Epoch 00000: val_loss improved from inf to 1.20242, saving model to quickdraw-200class-10k.h5\n",
      "1700000/1700000 [==============================] - 116s - loss: 1.3358 - acc: 0.6688 - val_loss: 1.2024 - val_acc: 0.7050\n",
      "lr: 0.01\n",
      "Epoch 2/50\n",
      "1699400/1700000 [============================>.] - ETA: 0s - loss: 1.3330 - acc: 0.6699Epoch 00001: val_loss improved from 1.20242 to 1.19929, saving model to quickdraw-200class-10k.h5\n",
      "1700000/1700000 [==============================] - 117s - loss: 1.3331 - acc: 0.6699 - val_loss: 1.1993 - val_acc: 0.7049\n",
      "lr: 0.01\n",
      "Epoch 3/50\n",
      "1699500/1700000 [============================>.] - ETA: 0s - loss: 1.3320 - acc: 0.6698Epoch 00002: val_loss did not improve\n",
      "1700000/1700000 [==============================] - 116s - loss: 1.3320 - acc: 0.6698 - val_loss: 1.2000 - val_acc: 0.7048\n",
      "lr: 0.01\n",
      "Epoch 4/50\n",
      "1699500/1700000 [============================>.] - ETA: 0s - loss: 1.3303 - acc: 0.6700Epoch 00003: val_loss improved from 1.19929 to 1.19721, saving model to quickdraw-200class-10k.h5\n",
      "1700000/1700000 [==============================] - 116s - loss: 1.3302 - acc: 0.6700 - val_loss: 1.1972 - val_acc: 0.7057\n",
      "lr: 0.01\n",
      "Epoch 5/50\n",
      "1699300/1700000 [============================>.] - ETA: 0s - loss: 1.3281 - acc: 0.6707Epoch 00004: val_loss improved from 1.19721 to 1.19409, saving model to quickdraw-200class-10k.h5\n",
      "1700000/1700000 [==============================] - 116s - loss: 1.3281 - acc: 0.6707 - val_loss: 1.1941 - val_acc: 0.7062\n",
      "lr: 0.01\n",
      "Epoch 6/50\n",
      "1699400/1700000 [============================>.] - ETA: 0s - loss: 1.3267 - acc: 0.6710Epoch 00005: val_loss did not improve\n",
      "1700000/1700000 [==============================] - 115s - loss: 1.3267 - acc: 0.6710 - val_loss: 1.1953 - val_acc: 0.7065\n",
      "lr: 0.01\n",
      "Epoch 7/50\n",
      "1699300/1700000 [============================>.] - ETA: 0s - loss: 1.3255 - acc: 0.6713Epoch 00006: val_loss improved from 1.19409 to 1.19067, saving model to quickdraw-200class-10k.h5\n",
      "1700000/1700000 [==============================] - 115s - loss: 1.3254 - acc: 0.6713 - val_loss: 1.1907 - val_acc: 0.7072\n",
      "lr: 0.01\n",
      "Epoch 8/50\n",
      "1699800/1700000 [============================>.] - ETA: 0s - loss: 1.3239 - acc: 0.6713Epoch 00007: val_loss did not improve\n",
      "1700000/1700000 [==============================] - 115s - loss: 1.3239 - acc: 0.6713 - val_loss: 1.1909 - val_acc: 0.7070\n",
      "lr: 0.01\n",
      "Epoch 9/50\n",
      "1699500/1700000 [============================>.] - ETA: 0s - loss: 1.3220 - acc: 0.6721Epoch 00008: val_loss improved from 1.19067 to 1.19031, saving model to quickdraw-200class-10k.h5\n",
      "1700000/1700000 [==============================] - 115s - loss: 1.3220 - acc: 0.6721 - val_loss: 1.1903 - val_acc: 0.7076\n",
      "lr: 0.01\n",
      "Epoch 10/50\n",
      "1699200/1700000 [============================>.] - ETA: 0s - loss: 1.3215 - acc: 0.6723- ETA: 1s - Epoch 00009: val_loss improved from 1.19031 to 1.18944, saving model to quickdraw-200class-10k.h5\n",
      "1700000/1700000 [==============================] - 115s - loss: 1.3214 - acc: 0.6723 - val_loss: 1.1894 - val_acc: 0.7077\n",
      "lr: 0.01\n",
      "Epoch 11/50\n",
      "1699500/1700000 [============================>.] - ETA: 0s - loss: 1.3200 - acc: 0.6722Epoch 00010: val_loss did not improve\n",
      "1700000/1700000 [==============================] - 115s - loss: 1.3200 - acc: 0.6722 - val_loss: 1.1949 - val_acc: 0.7052\n",
      "lr: 0.01\n",
      "Epoch 12/50\n",
      "1699400/1700000 [============================>.] - ETA: 0s - loss: 1.3188 - acc: 0.6727Epoch 00011: val_loss improved from 1.18944 to 1.18628, saving model to quickdraw-200class-10k.h5\n",
      "1700000/1700000 [==============================] - 115s - loss: 1.3188 - acc: 0.6727 - val_loss: 1.1863 - val_acc: 0.7088\n",
      "lr: 0.01\n",
      "Epoch 13/50\n",
      "1699300/1700000 [============================>.] - ETA: 0s - loss: 1.3172 - acc: 0.6733Epoch 00012: val_loss improved from 1.18628 to 1.18407, saving model to quickdraw-200class-10k.h5\n",
      "1700000/1700000 [==============================] - 115s - loss: 1.3172 - acc: 0.6733 - val_loss: 1.1841 - val_acc: 0.7092\n",
      "lr: 0.01\n",
      "Epoch 14/50\n",
      "1699500/1700000 [============================>.] - ETA: 0s - loss: 1.3156 - acc: 0.6733Epoch 00013: val_loss did not improve\n",
      "1700000/1700000 [==============================] - 115s - loss: 1.3155 - acc: 0.6733 - val_loss: 1.1858 - val_acc: 0.7077\n",
      "lr: 0.01\n",
      "Epoch 15/50\n",
      "1699600/1700000 [============================>.] - ETA: 0s - loss: 1.3157 - acc: 0.6732Epoch 00014: val_loss did not improve\n",
      "1700000/1700000 [==============================] - 115s - loss: 1.3157 - acc: 0.6732 - val_loss: 1.1849 - val_acc: 0.7085\n",
      "lr: 0.01\n",
      "Epoch 16/50\n",
      "1699600/1700000 [============================>.] - ETA: 0s - loss: 1.3141 - acc: 0.6737Epoch 00015: val_loss improved from 1.18407 to 1.18325, saving model to quickdraw-200class-10k.h5\n",
      "1700000/1700000 [==============================] - 115s - loss: 1.3141 - acc: 0.6737 - val_loss: 1.1832 - val_acc: 0.7085\n",
      "lr: 0.01\n",
      "Epoch 17/50\n",
      "1699400/1700000 [============================>.] - ETA: 0s - loss: 1.3129 - acc: 0.6736Epoch 00016: val_loss improved from 1.18325 to 1.18321, saving model to quickdraw-200class-10k.h5\n",
      "1700000/1700000 [==============================] - 115s - loss: 1.3129 - acc: 0.6736 - val_loss: 1.1832 - val_acc: 0.7088\n",
      "lr: 0.01\n",
      "Epoch 18/50\n",
      "1699500/1700000 [============================>.] - ETA: 0s - loss: 1.3104 - acc: 0.6744Epoch 00017: val_loss improved from 1.18321 to 1.18007, saving model to quickdraw-200class-10k.h5\n",
      "1700000/1700000 [==============================] - 115s - loss: 1.3104 - acc: 0.6744 - val_loss: 1.1801 - val_acc: 0.7093\n",
      "lr: 0.01\n",
      "Epoch 19/50\n",
      "1699100/1700000 [============================>.] - ETA: 0s - loss: 1.3100 - acc: 0.6747Epoch 00018: val_loss improved from 1.18007 to 1.17920, saving model to quickdraw-200class-10k.h5\n",
      "1700000/1700000 [==============================] - 115s - loss: 1.3100 - acc: 0.6747 - val_loss: 1.1792 - val_acc: 0.7098\n",
      "lr: 0.01\n",
      "Epoch 20/50\n",
      "1699200/1700000 [============================>.] - ETA: 0s - loss: 1.3091 - acc: 0.6745Epoch 00019: val_loss did not improve\n",
      "1700000/1700000 [==============================] - 115s - loss: 1.3091 - acc: 0.6746 - val_loss: 1.1795 - val_acc: 0.7100\n",
      "lr: 0.01\n",
      "Epoch 21/50\n",
      "1699300/1700000 [============================>.] - ETA: 0s - loss: 1.3082 - acc: 0.6750Epoch 00020: val_loss did not improve\n",
      "1700000/1700000 [==============================] - 115s - loss: 1.3082 - acc: 0.6750 - val_loss: 1.1794 - val_acc: 0.7100\n",
      "lr: 0.01\n",
      "Epoch 22/50\n",
      "1699300/1700000 [============================>.] - ETA: 0s - loss: 1.3064 - acc: 0.6755Epoch 00021: val_loss improved from 1.17920 to 1.17839, saving model to quickdraw-200class-10k.h5\n",
      "1700000/1700000 [==============================] - 115s - loss: 1.3063 - acc: 0.6755 - val_loss: 1.1784 - val_acc: 0.7094\n",
      "lr: 0.01\n",
      "Epoch 23/50\n",
      "1699900/1700000 [============================>.] - ETA: 0s - loss: 1.3053 - acc: 0.6757Epoch 00022: val_loss did not improve\n",
      "1700000/1700000 [==============================] - 115s - loss: 1.3053 - acc: 0.6757 - val_loss: 1.1838 - val_acc: 0.7091\n",
      "lr: 0.01\n",
      "Epoch 24/50\n",
      "1699900/1700000 [============================>.] - ETA: 0s - loss: 1.3052 - acc: 0.6756Epoch 00023: val_loss improved from 1.17839 to 1.17834, saving model to quickdraw-200class-10k.h5\n",
      "1700000/1700000 [==============================] - 115s - loss: 1.3052 - acc: 0.6756 - val_loss: 1.1783 - val_acc: 0.7098\n",
      "lr: 0.01\n",
      "Epoch 25/50\n",
      "1699100/1700000 [============================>.] - ETA: 0s - loss: 1.3028 - acc: 0.6760Epoch 00024: val_loss improved from 1.17834 to 1.17811, saving model to quickdraw-200class-10k.h5\n",
      "1700000/1700000 [==============================] - 115s - loss: 1.3028 - acc: 0.6760 - val_loss: 1.1781 - val_acc: 0.7094\n",
      "lr: 0.01\n",
      "Epoch 26/50\n",
      "1699600/1700000 [============================>.] - ETA: 0s - loss: 1.3028 - acc: 0.6762Epoch 00025: val_loss improved from 1.17811 to 1.17430, saving model to quickdraw-200class-10k.h5\n",
      "1700000/1700000 [==============================] - 116s - loss: 1.3028 - acc: 0.6762 - val_loss: 1.1743 - val_acc: 0.7108\n",
      "lr: 0.01\n",
      "Epoch 27/50\n",
      "1699600/1700000 [============================>.] - ETA: 0s - loss: 1.3014 - acc: 0.6768Epoch 00026: val_loss improved from 1.17430 to 1.17266, saving model to quickdraw-200class-10k.h5\n"
     ]
    },
    {
     "name": "stdout",
     "output_type": "stream",
     "text": [
      "1700000/1700000 [==============================] - 116s - loss: 1.3014 - acc: 0.6768 - val_loss: 1.1727 - val_acc: 0.7114\n",
      "lr: 0.01\n",
      "Epoch 28/50\n",
      "1699400/1700000 [============================>.] - ETA: 0s - loss: 1.3012 - acc: 0.6766Epoch 00027: val_loss improved from 1.17266 to 1.17075, saving model to quickdraw-200class-10k.h5\n",
      "1700000/1700000 [==============================] - 116s - loss: 1.3012 - acc: 0.6766 - val_loss: 1.1708 - val_acc: 0.7119\n",
      "lr: 0.01\n",
      "Epoch 29/50\n",
      "1699600/1700000 [============================>.] - ETA: 0s - loss: 1.3002 - acc: 0.6765Epoch 00028: val_loss did not improve\n",
      "1700000/1700000 [==============================] - 116s - loss: 1.3002 - acc: 0.6765 - val_loss: 1.1736 - val_acc: 0.7112\n",
      "lr: 0.01\n",
      "Epoch 30/50\n",
      "1699200/1700000 [============================>.] - ETA: 0s - loss: 1.2992 - acc: 0.6772Epoch 00029: val_loss did not improve\n",
      "1700000/1700000 [==============================] - 115s - loss: 1.2992 - acc: 0.6772 - val_loss: 1.1719 - val_acc: 0.7105\n",
      "lr: 0.01\n",
      "Epoch 31/50\n",
      "1699600/1700000 [============================>.] - ETA: 0s - loss: 1.2984 - acc: 0.6768Epoch 00030: val_loss did not improve\n",
      "1700000/1700000 [==============================] - 115s - loss: 1.2984 - acc: 0.6768 - val_loss: 1.1719 - val_acc: 0.7110\n",
      "lr: 0.01\n",
      "Epoch 32/50\n",
      "1699800/1700000 [============================>.] - ETA: 0s - loss: 1.2972 - acc: 0.6772Epoch 00031: val_loss did not improve\n",
      "1700000/1700000 [==============================] - 115s - loss: 1.2972 - acc: 0.6772 - val_loss: 1.1709 - val_acc: 0.7112\n",
      "Epoch 00031: early stopping\n"
     ]
    }
   ],
   "source": [
    "from keras.callbacks import ModelCheckpoint, ReduceLROnPlateau, LambdaCallback, EarlyStopping\n",
    "import keras.backend as K\n",
    "\n",
    "checkpointer = ModelCheckpoint(filepath='quickdraw-200class-10k.h5', verbose=1, save_best_only=True)\n",
    "reduce_lr = ReduceLROnPlateau(monitor='val_loss', factor=0.9, patience=3, min_lr=0.0001)\n",
    "lr_print = LambdaCallback(on_epoch_begin=lambda epoch,logs: print(\"lr:\", K.eval(model.optimizer.lr)))\n",
    "early_stopping = EarlyStopping(monitor='val_loss',min_delta=0,patience=3,verbose=1,mode='auto')\n",
    "\n",
    "history = model.fit(x_train, y_train,\n",
    "                   batch_size=100, epochs=50,\n",
    "                   verbose=1, validation_data=(x_test, y_test),\n",
    "                   callbacks=[checkpointer, reduce_lr, lr_print, early_stopping])"
   ]
  },
  {
   "cell_type": "markdown",
   "metadata": {
    "collapsed": true
   },
   "source": [
    "## Plot the training and validation/testing accuracy"
   ]
  },
  {
   "cell_type": "code",
   "execution_count": 32,
   "metadata": {},
   "outputs": [
    {
     "data": {
      "image/png": "[encoded data removed]",
      "text/plain": [
       "<matplotlib.figure.Figure at 0x26d80050710>"
      ]
     },
     "metadata": {},
     "output_type": "display_data"
    }
   ],
   "source": [
    "def plot_train(hist):\n",
    "    h = hist.history\n",
    "    if 'acc' in h:\n",
    "        meas='acc'\n",
    "        loc='lower right'\n",
    "    else:\n",
    "        meas='loss'\n",
    "        loc='upper right'\n",
    "    plt.plot(hist.history[meas])\n",
    "    plt.plot(hist.history['val_'+meas])\n",
    "    plt.title('model '+meas)\n",
    "    plt.ylabel(meas)\n",
    "    plt.xlabel('epoch')\n",
    "    plt.legend(['train', 'validation'], loc=loc)\n",
    "    \n",
    "plot_train(history)"
   ]
  },
  {
   "cell_type": "code",
   "execution_count": 33,
   "metadata": {},
   "outputs": [
    {
     "name": "stdout",
     "output_type": "stream",
     "text": [
      "Test loss: 1.17087997942\n",
      "Test accuracy: 0.71116\n"
     ]
    }
   ],
   "source": [
    "# Test against x_test and y_test dataset. Top one result.\n",
    "score = model.evaluate(x_test, y_test, verbose=0)\n",
    "print('Test loss:', score[0])\n",
    "print('Test accuracy:', score[1])"
   ]
  },
  {
   "cell_type": "markdown",
   "metadata": {},
   "source": [
    "If considering the top 5 returned predictions, the accuracy reached 90.0%."
   ]
  },
  {
   "cell_type": "code",
   "execution_count": 34,
   "metadata": {
    "collapsed": true
   },
   "outputs": [],
   "source": [
    "def get_top_n_rate(model, n, x_test, y_test):\n",
    "    # Get the prediction matrix of all the testing data points\n",
    "    predict_prob = model.predict(x_test)\n",
    "    # Get the top n index matrix\n",
    "    top_n = np.argsort(predict_prob)[:, :-n-1:-1]\n",
    "    \n",
    "    found = .0\n",
    "    for i in range(len(top_n)):\n",
    "        curIndex = np.argmax(y_test[i])\n",
    "        if curIndex in top_n[i]:\n",
    "            # Increase 'found' if the index of the test case is found in the top n\n",
    "            found += 1\n",
    "    return found/len(top_n)"
   ]
  },
  {
   "cell_type": "code",
   "execution_count": 35,
   "metadata": {},
   "outputs": [
    {
     "name": "stdout",
     "output_type": "stream",
     "text": [
      "299680/300000 [============================>.] - ETA: 0s\n",
      "Top 1 accuracy: 0.71116\n",
      "Top 5 accuracy: 0.8997533333333333\n"
     ]
    }
   ],
   "source": [
    "# Subset a small portion of test dataset.\n",
    "print('\\nTop 1 accuracy:', model.evaluate(x_test, y_test)[1])\n",
    "print('Top 5 accuracy:', get_top_n_rate(model, 5, x_test, y_test))"
   ]
  },
  {
   "cell_type": "markdown",
   "metadata": {},
   "source": [
    "## Save and load the model"
   ]
  },
  {
   "cell_type": "code",
   "execution_count": 21,
   "metadata": {},
   "outputs": [
    {
     "name": "stderr",
     "output_type": "stream",
     "text": [
      "/Users/victor/anaconda/envs/tfkeras/lib/python3.5/site-packages/keras/models.py:287: UserWarning: Error in loading the saved optimizer state. As a result, your model is starting with a freshly initialized optimizer.\n",
      "  warnings.warn('Error in loading the saved optimizer '\n"
     ]
    }
   ],
   "source": [
    "#model.save('quickdraw-100class-10k.h5')\n",
    "model = keras.models.load_model('quickdraw-100class-10k.h5')"
   ]
  },
  {
   "cell_type": "code",
   "execution_count": null,
   "metadata": {
    "collapsed": true
   },
   "outputs": [],
   "source": []
  }
 ],
 "metadata": {
  "kernelspec": {
   "display_name": "Python 3",
   "language": "python",
   "name": "python3"
  },
  "language_info": {
   "codemirror_mode": {
    "name": "ipython",
    "version": 3
   },
   "file_extension": ".py",
   "mimetype": "text/x-python",
   "name": "python",
   "nbconvert_exporter": "python",
   "pygments_lexer": "ipython3",
   "version": "3.5.4"
  }
 },
 "nbformat": 4,
 "nbformat_minor": 2
}
